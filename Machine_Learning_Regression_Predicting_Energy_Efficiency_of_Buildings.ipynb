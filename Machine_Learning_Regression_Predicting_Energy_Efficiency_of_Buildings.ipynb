{
  "nbformat": 4,
  "nbformat_minor": 0,
  "metadata": {
    "colab": {
      "name": "Machine Learning: Regression - Predicting Energy Efficiency of Buildings.ipynb",
      "provenance": [],
      "collapsed_sections": []
    },
    "kernelspec": {
      "name": "python3",
      "display_name": "Python 3"
    },
    "language_info": {
      "name": "python"
    }
  },
  "cells": [
    {
      "cell_type": "code",
      "metadata": {
        "id": "dJQOuhTNMZ0J"
      },
      "source": [
        "import pandas as pd"
      ],
      "execution_count": 1,
      "outputs": []
    },
    {
      "cell_type": "code",
      "metadata": {
        "id": "KuOZ5XDQMhyO"
      },
      "source": [
        "df=pd.read_csv('/content/drive/MyDrive/energydata_complete (1).csv')"
      ],
      "execution_count": 25,
      "outputs": []
    },
    {
      "cell_type": "code",
      "metadata": {
        "colab": {
          "base_uri": "https://localhost:8080/",
          "height": 223
        },
        "id": "z8q0F4zSMnbW",
        "outputId": "f4fcaf17-2038-4fa9-d56a-f4ac4003fa82"
      },
      "source": [
        "df.head()"
      ],
      "execution_count": 91,
      "outputs": [
        {
          "output_type": "execute_result",
          "data": {
            "text/html": [
              "<div>\n",
              "<style scoped>\n",
              "    .dataframe tbody tr th:only-of-type {\n",
              "        vertical-align: middle;\n",
              "    }\n",
              "\n",
              "    .dataframe tbody tr th {\n",
              "        vertical-align: top;\n",
              "    }\n",
              "\n",
              "    .dataframe thead th {\n",
              "        text-align: right;\n",
              "    }\n",
              "</style>\n",
              "<table border=\"1\" class=\"dataframe\">\n",
              "  <thead>\n",
              "    <tr style=\"text-align: right;\">\n",
              "      <th></th>\n",
              "      <th>Appliances</th>\n",
              "      <th>T1</th>\n",
              "      <th>RH_1</th>\n",
              "      <th>T2</th>\n",
              "      <th>RH_2</th>\n",
              "      <th>T3</th>\n",
              "      <th>RH_3</th>\n",
              "      <th>T4</th>\n",
              "      <th>RH_4</th>\n",
              "      <th>T5</th>\n",
              "      <th>RH_5</th>\n",
              "      <th>T6</th>\n",
              "      <th>RH_6</th>\n",
              "      <th>T7</th>\n",
              "      <th>RH_7</th>\n",
              "      <th>T8</th>\n",
              "      <th>RH_8</th>\n",
              "      <th>T9</th>\n",
              "      <th>RH_9</th>\n",
              "      <th>T_out</th>\n",
              "      <th>Press_mm_hg</th>\n",
              "      <th>RH_out</th>\n",
              "      <th>Windspeed</th>\n",
              "      <th>Visibility</th>\n",
              "      <th>Tdewpoint</th>\n",
              "      <th>rv1</th>\n",
              "      <th>rv2</th>\n",
              "    </tr>\n",
              "  </thead>\n",
              "  <tbody>\n",
              "    <tr>\n",
              "      <th>0</th>\n",
              "      <td>60</td>\n",
              "      <td>19.89</td>\n",
              "      <td>47.596667</td>\n",
              "      <td>19.2</td>\n",
              "      <td>44.790000</td>\n",
              "      <td>19.79</td>\n",
              "      <td>44.730000</td>\n",
              "      <td>19.000000</td>\n",
              "      <td>45.566667</td>\n",
              "      <td>17.166667</td>\n",
              "      <td>55.20</td>\n",
              "      <td>7.026667</td>\n",
              "      <td>84.256667</td>\n",
              "      <td>17.200000</td>\n",
              "      <td>41.626667</td>\n",
              "      <td>18.2</td>\n",
              "      <td>48.900000</td>\n",
              "      <td>17.033333</td>\n",
              "      <td>45.53</td>\n",
              "      <td>6.600000</td>\n",
              "      <td>733.5</td>\n",
              "      <td>92.0</td>\n",
              "      <td>7.000000</td>\n",
              "      <td>63.000000</td>\n",
              "      <td>5.3</td>\n",
              "      <td>13.275433</td>\n",
              "      <td>13.275433</td>\n",
              "    </tr>\n",
              "    <tr>\n",
              "      <th>1</th>\n",
              "      <td>60</td>\n",
              "      <td>19.89</td>\n",
              "      <td>46.693333</td>\n",
              "      <td>19.2</td>\n",
              "      <td>44.722500</td>\n",
              "      <td>19.79</td>\n",
              "      <td>44.790000</td>\n",
              "      <td>19.000000</td>\n",
              "      <td>45.992500</td>\n",
              "      <td>17.166667</td>\n",
              "      <td>55.20</td>\n",
              "      <td>6.833333</td>\n",
              "      <td>84.063333</td>\n",
              "      <td>17.200000</td>\n",
              "      <td>41.560000</td>\n",
              "      <td>18.2</td>\n",
              "      <td>48.863333</td>\n",
              "      <td>17.066667</td>\n",
              "      <td>45.56</td>\n",
              "      <td>6.483333</td>\n",
              "      <td>733.6</td>\n",
              "      <td>92.0</td>\n",
              "      <td>6.666667</td>\n",
              "      <td>59.166667</td>\n",
              "      <td>5.2</td>\n",
              "      <td>18.606195</td>\n",
              "      <td>18.606195</td>\n",
              "    </tr>\n",
              "    <tr>\n",
              "      <th>2</th>\n",
              "      <td>50</td>\n",
              "      <td>19.89</td>\n",
              "      <td>46.300000</td>\n",
              "      <td>19.2</td>\n",
              "      <td>44.626667</td>\n",
              "      <td>19.79</td>\n",
              "      <td>44.933333</td>\n",
              "      <td>18.926667</td>\n",
              "      <td>45.890000</td>\n",
              "      <td>17.166667</td>\n",
              "      <td>55.09</td>\n",
              "      <td>6.560000</td>\n",
              "      <td>83.156667</td>\n",
              "      <td>17.200000</td>\n",
              "      <td>41.433333</td>\n",
              "      <td>18.2</td>\n",
              "      <td>48.730000</td>\n",
              "      <td>17.000000</td>\n",
              "      <td>45.50</td>\n",
              "      <td>6.366667</td>\n",
              "      <td>733.7</td>\n",
              "      <td>92.0</td>\n",
              "      <td>6.333333</td>\n",
              "      <td>55.333333</td>\n",
              "      <td>5.1</td>\n",
              "      <td>28.642668</td>\n",
              "      <td>28.642668</td>\n",
              "    </tr>\n",
              "    <tr>\n",
              "      <th>3</th>\n",
              "      <td>50</td>\n",
              "      <td>19.89</td>\n",
              "      <td>46.066667</td>\n",
              "      <td>19.2</td>\n",
              "      <td>44.590000</td>\n",
              "      <td>19.79</td>\n",
              "      <td>45.000000</td>\n",
              "      <td>18.890000</td>\n",
              "      <td>45.723333</td>\n",
              "      <td>17.166667</td>\n",
              "      <td>55.09</td>\n",
              "      <td>6.433333</td>\n",
              "      <td>83.423333</td>\n",
              "      <td>17.133333</td>\n",
              "      <td>41.290000</td>\n",
              "      <td>18.1</td>\n",
              "      <td>48.590000</td>\n",
              "      <td>17.000000</td>\n",
              "      <td>45.40</td>\n",
              "      <td>6.250000</td>\n",
              "      <td>733.8</td>\n",
              "      <td>92.0</td>\n",
              "      <td>6.000000</td>\n",
              "      <td>51.500000</td>\n",
              "      <td>5.0</td>\n",
              "      <td>45.410389</td>\n",
              "      <td>45.410389</td>\n",
              "    </tr>\n",
              "    <tr>\n",
              "      <th>4</th>\n",
              "      <td>60</td>\n",
              "      <td>19.89</td>\n",
              "      <td>46.333333</td>\n",
              "      <td>19.2</td>\n",
              "      <td>44.530000</td>\n",
              "      <td>19.79</td>\n",
              "      <td>45.000000</td>\n",
              "      <td>18.890000</td>\n",
              "      <td>45.530000</td>\n",
              "      <td>17.200000</td>\n",
              "      <td>55.09</td>\n",
              "      <td>6.366667</td>\n",
              "      <td>84.893333</td>\n",
              "      <td>17.200000</td>\n",
              "      <td>41.230000</td>\n",
              "      <td>18.1</td>\n",
              "      <td>48.590000</td>\n",
              "      <td>17.000000</td>\n",
              "      <td>45.40</td>\n",
              "      <td>6.133333</td>\n",
              "      <td>733.9</td>\n",
              "      <td>92.0</td>\n",
              "      <td>5.666667</td>\n",
              "      <td>47.666667</td>\n",
              "      <td>4.9</td>\n",
              "      <td>10.084097</td>\n",
              "      <td>10.084097</td>\n",
              "    </tr>\n",
              "  </tbody>\n",
              "</table>\n",
              "</div>"
            ],
            "text/plain": [
              "   Appliances     T1       RH_1  ...  Tdewpoint        rv1        rv2\n",
              "0          60  19.89  47.596667  ...        5.3  13.275433  13.275433\n",
              "1          60  19.89  46.693333  ...        5.2  18.606195  18.606195\n",
              "2          50  19.89  46.300000  ...        5.1  28.642668  28.642668\n",
              "3          50  19.89  46.066667  ...        5.0  45.410389  45.410389\n",
              "4          60  19.89  46.333333  ...        4.9  10.084097  10.084097\n",
              "\n",
              "[5 rows x 27 columns]"
            ]
          },
          "metadata": {},
          "execution_count": 91
        }
      ]
    },
    {
      "cell_type": "code",
      "metadata": {
        "id": "H3baZ6jrNlZ9"
      },
      "source": [
        "df.isnull().sum()"
      ],
      "execution_count": null,
      "outputs": []
    },
    {
      "cell_type": "code",
      "metadata": {
        "id": "y1OGANGVOQBq"
      },
      "source": [
        "df.drop(['date', 'lights'], axis=1, inplace=True)"
      ],
      "execution_count": 27,
      "outputs": []
    },
    {
      "cell_type": "code",
      "metadata": {
        "id": "-7LjFmymSSPE"
      },
      "source": [
        "X=df['T2']\n",
        "Y=df['T6']"
      ],
      "execution_count": 92,
      "outputs": []
    },
    {
      "cell_type": "code",
      "metadata": {
        "id": "Lpz4FtR4OgZs"
      },
      "source": [
        "from sklearn.model_selection import train_test_split\n",
        "X_train, X_test, y_train, y_test = train_test_split(X, Y, test_size=0.30, random_state=42)"
      ],
      "execution_count": 93,
      "outputs": []
    },
    {
      "cell_type": "code",
      "metadata": {
        "id": "HWZoQxOvOcSA"
      },
      "source": [
        "from sklearn.preprocessing import MinMaxScaler\n",
        "import numpy as np\n",
        "sc=MinMaxScaler()\n",
        "X_train=np.array(X_train)\n",
        "X_test=np.array(X_test)\n",
        "X_train=X_train.reshape(-1, 1)\n",
        "X_test=X_test.reshape(-1, 1)\n",
        "X_train= sc.fit_transform(X_train)\n",
        "X_test=sc.transform(X_test)"
      ],
      "execution_count": 94,
      "outputs": []
    },
    {
      "cell_type": "code",
      "metadata": {
        "id": "BhMrZKdKP7Ys"
      },
      "source": [
        "from sklearn.linear_model import LinearRegression\n",
        "Lr=LinearRegression()"
      ],
      "execution_count": 95,
      "outputs": []
    },
    {
      "cell_type": "code",
      "metadata": {
        "colab": {
          "base_uri": "https://localhost:8080/"
        },
        "id": "9stsdSXQQDH4",
        "outputId": "f4a4f8f5-832e-4f65-cc36-909471fbcc8a"
      },
      "source": [
        "Lr.fit(X_train, y_train)"
      ],
      "execution_count": 96,
      "outputs": [
        {
          "output_type": "execute_result",
          "data": {
            "text/plain": [
              "LinearRegression(copy_X=True, fit_intercept=True, n_jobs=None, normalize=False)"
            ]
          },
          "metadata": {},
          "execution_count": 96
        }
      ]
    },
    {
      "cell_type": "code",
      "metadata": {
        "colab": {
          "base_uri": "https://localhost:8080/"
        },
        "id": "N-YTeqfrQJQT",
        "outputId": "ff141c0a-b231-47b0-8ec6-dc931e73dfed"
      },
      "source": [
        "Lr.score(X_test, y_test)"
      ],
      "execution_count": 97,
      "outputs": [
        {
          "output_type": "execute_result",
          "data": {
            "text/plain": [
              "0.6427789637197382"
            ]
          },
          "metadata": {},
          "execution_count": 97
        }
      ]
    },
    {
      "cell_type": "markdown",
      "metadata": {
        "id": "onqtp1UBYAcT"
      },
      "source": [
        ""
      ]
    },
    {
      "cell_type": "code",
      "metadata": {
        "id": "hSYreKk8YBEL"
      },
      "source": [
        "X=df.drop('Appliances', axis=1)\n",
        "Y=df['Appliances']"
      ],
      "execution_count": 98,
      "outputs": []
    },
    {
      "cell_type": "code",
      "metadata": {
        "id": "QgFDmWRbYG8V"
      },
      "source": [
        "X_train, X_test, y_train, y_test = train_test_split(X, Y, test_size=0.30, random_state=42)"
      ],
      "execution_count": 99,
      "outputs": []
    },
    {
      "cell_type": "code",
      "metadata": {
        "id": "tienvLkkYQCY"
      },
      "source": [
        "X_train=sc.fit_transform(X_train)\n",
        "X_test=sc.transform(X_test)"
      ],
      "execution_count": 100,
      "outputs": []
    },
    {
      "cell_type": "code",
      "metadata": {
        "colab": {
          "base_uri": "https://localhost:8080/"
        },
        "id": "VQE8gOngYcqq",
        "outputId": "eb8ad864-64f4-4e00-8c0d-6e929b1bc83f"
      },
      "source": [
        "Lr.fit(X_train, y_train)"
      ],
      "execution_count": 101,
      "outputs": [
        {
          "output_type": "execute_result",
          "data": {
            "text/plain": [
              "LinearRegression(copy_X=True, fit_intercept=True, n_jobs=None, normalize=False)"
            ]
          },
          "metadata": {},
          "execution_count": 101
        }
      ]
    },
    {
      "cell_type": "code",
      "metadata": {
        "colab": {
          "base_uri": "https://localhost:8080/"
        },
        "id": "3LH6IZX6TX6z",
        "outputId": "c1803b1e-1070-4b9b-b9aa-b9a7face9a74"
      },
      "source": [
        "from sklearn.metrics import mean_absolute_error\n",
        "y_pred=Lr.predict(X_test)\n",
        "mean_absolute_error(y_test, y_pred)"
      ],
      "execution_count": 102,
      "outputs": [
        {
          "output_type": "execute_result",
          "data": {
            "text/plain": [
              "53.642977655849585"
            ]
          },
          "metadata": {},
          "execution_count": 102
        }
      ]
    },
    {
      "cell_type": "code",
      "metadata": {
        "colab": {
          "base_uri": "https://localhost:8080/"
        },
        "id": "tVYiKziFT7UL",
        "outputId": "5f7f9f07-790b-4f76-a0c7-18257877c7f2"
      },
      "source": [
        "from sklearn.metrics import mean_squared_error\n",
        "mean_squared_error(y_test, y_pred, squared=False)"
      ],
      "execution_count": 103,
      "outputs": [
        {
          "output_type": "execute_result",
          "data": {
            "text/plain": [
              "93.64046093998029"
            ]
          },
          "metadata": {},
          "execution_count": 103
        }
      ]
    },
    {
      "cell_type": "code",
      "metadata": {
        "colab": {
          "base_uri": "https://localhost:8080/"
        },
        "id": "QRNwRxd-YjKf",
        "outputId": "ab19f7f1-999a-407f-bf9a-fdc363da19e6"
      },
      "source": [
        "Lr.score(X_test, y_test)"
      ],
      "execution_count": 104,
      "outputs": [
        {
          "output_type": "execute_result",
          "data": {
            "text/plain": [
              "0.14890246319303535"
            ]
          },
          "metadata": {},
          "execution_count": 104
        }
      ]
    },
    {
      "cell_type": "code",
      "metadata": {
        "colab": {
          "base_uri": "https://localhost:8080/"
        },
        "id": "GTKqhQz1V6ef",
        "outputId": "0f6c4439-ec3a-48bc-c166-2198a128ac10"
      },
      "source": [
        "Lr.coef_"
      ],
      "execution_count": 105,
      "outputs": [
        {
          "output_type": "execute_result",
          "data": {
            "text/plain": [
              "array([  -3.51072478,  495.52601962, -252.710373  , -469.52136238,\n",
              "        310.97103712,  102.77165244,   31.00966845,   27.31182902,\n",
              "        -16.75282177,   17.03563561,  252.71692835,   40.7120577 ,\n",
              "         11.00293428,  -47.56355153,  109.13469841, -168.62716102,\n",
              "       -203.23662712,  -42.58633878, -344.3898449 ,    7.31524276,\n",
              "        -83.1075989 ,   31.22594824,   13.16807161,  125.43063708,\n",
              "          0.82386956,    0.82386956])"
            ]
          },
          "metadata": {},
          "execution_count": 105
        }
      ]
    },
    {
      "cell_type": "code",
      "metadata": {
        "colab": {
          "base_uri": "https://localhost:8080/"
        },
        "id": "KDCUihZRWdR4",
        "outputId": "ae26af75-bf5c-419a-b6cf-207e151d5c2b"
      },
      "source": [
        "from sklearn.linear_model import Ridge\n",
        "ridge=Ridge(alpha=0.4)\n",
        "ridge.fit(X_train, y_train)"
      ],
      "execution_count": 106,
      "outputs": [
        {
          "output_type": "execute_result",
          "data": {
            "text/plain": [
              "Ridge(alpha=0.4, copy_X=True, fit_intercept=True, max_iter=None,\n",
              "      normalize=False, random_state=None, solver='auto', tol=0.001)"
            ]
          },
          "metadata": {},
          "execution_count": 106
        }
      ]
    },
    {
      "cell_type": "code",
      "metadata": {
        "id": "SPPZc6lcXUg6"
      },
      "source": [
        "y_pred=ridge.predict(X_test)"
      ],
      "execution_count": 107,
      "outputs": []
    },
    {
      "cell_type": "code",
      "metadata": {
        "colab": {
          "base_uri": "https://localhost:8080/"
        },
        "id": "b_IIOal9XSkB",
        "outputId": "666003d6-1f09-41f1-f899-a81449574d9a"
      },
      "source": [
        "mean_squared_error(y_test, y_pred, squared=False)"
      ],
      "execution_count": 108,
      "outputs": [
        {
          "output_type": "execute_result",
          "data": {
            "text/plain": [
              "93.66003653920392"
            ]
          },
          "metadata": {},
          "execution_count": 108
        }
      ]
    },
    {
      "cell_type": "code",
      "metadata": {
        "colab": {
          "base_uri": "https://localhost:8080/"
        },
        "id": "5VsHAHAwZcv8",
        "outputId": "6dbe98d7-72e7-4811-e924-2a88e48b4977"
      },
      "source": [
        "from sklearn.linear_model import Lasso\n",
        "lasso=Lasso(alpha=0.001)\n",
        "lasso.fit(X_train, y_train)"
      ],
      "execution_count": 109,
      "outputs": [
        {
          "output_type": "execute_result",
          "data": {
            "text/plain": [
              "Lasso(alpha=0.001, copy_X=True, fit_intercept=True, max_iter=1000,\n",
              "      normalize=False, positive=False, precompute=False, random_state=None,\n",
              "      selection='cyclic', tol=0.0001, warm_start=False)"
            ]
          },
          "metadata": {},
          "execution_count": 109
        }
      ]
    },
    {
      "cell_type": "code",
      "metadata": {
        "colab": {
          "base_uri": "https://localhost:8080/"
        },
        "id": "BHFAg2fWZqw8",
        "outputId": "393636ca-95f3-444d-f51b-7a9fc75a576a"
      },
      "source": [
        "lasso.coef_"
      ],
      "execution_count": 110,
      "outputs": [
        {
          "output_type": "execute_result",
          "data": {
            "text/plain": [
              "array([  -4.05585856,  494.32619407, -249.63865276, -465.82104986,\n",
              "        310.20015553,  102.17247227,   30.34420541,   26.56058062,\n",
              "        -17.1130125 ,   17.01355581,  249.83361984,   40.09096313,\n",
              "         10.30491756,  -47.20961004,  108.879691  , -168.69793662,\n",
              "       -202.48080861,  -42.44605292, -332.57356496,    7.28122335,\n",
              "        -77.98877912,   31.38802504,   13.07813126,  118.06259364,\n",
              "          1.63099462,    0.        ])"
            ]
          },
          "metadata": {},
          "execution_count": 110
        }
      ]
    },
    {
      "cell_type": "code",
      "metadata": {
        "colab": {
          "base_uri": "https://localhost:8080/"
        },
        "id": "ZgpkzEaGZ76l",
        "outputId": "7356dbef-0ff4-4fa6-bb39-19fd5146c870"
      },
      "source": [
        "y_pred=lasso.predict(X_test)\n",
        "mean_squared_error(y_test, y_pred, squared=False)"
      ],
      "execution_count": 111,
      "outputs": [
        {
          "output_type": "execute_result",
          "data": {
            "text/plain": [
              "93.6406727479042"
            ]
          },
          "metadata": {},
          "execution_count": 111
        }
      ]
    }
  ]
}